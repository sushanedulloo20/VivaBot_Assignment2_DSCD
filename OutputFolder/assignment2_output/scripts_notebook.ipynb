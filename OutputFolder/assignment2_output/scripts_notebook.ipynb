{
 "cells": [
  {
   "cell_type": "code",
   "execution_count": 17,
   "metadata": {},
   "outputs": [
    {
     "name": "stdout",
     "output_type": "stream",
     "text": [
      "total no. of groups:  148\n"
     ]
    }
   ],
   "source": [
    "import pandas as pd\n",
    "import json \n",
    "import os \n",
    "\n",
    "mapping={'Shah Kirtan Viral Kumar':0,'Sanyam Goyal':1,'Shivansh Choudhary':2,'Arunoday Ghorai':3,'Arohi Shrivastava':4,'Siddhant Jha':5,'Aditya Pratap Singh':6,'Dwaipayan Mondal':7,'Vani Mittal':8,'Shikhar Sharma':9,'Vibhu Dubey':10,'Diksha Sethi':11,'Srishti Jain':12,'Sourav Chakraborty':13}\n",
    "\n",
    "def convert_to_csv():\n",
    "    path='./Assignment 2/'\n",
    "    dataframes=[]\n",
    "    cnt=0\n",
    "    for ta_name in os.listdir(path): \n",
    "        ta_id=mapping[ta_name]\n",
    "        \n",
    "        for group_name in os.listdir(path+ta_name+'/answer_files/'): \n",
    "            cnt+=1\n",
    "            group_id=group_name.split('_')[5]\n",
    "            json_path=path+ta_name+'/answer_files/'+group_name\n",
    "            with open(json_path, 'r') as file:\n",
    "                data = json.load(file) \n",
    "            df = pd.DataFrame(data)\n",
    "            df= df.replace(\"\", \"-\")\n",
    "    \n",
    "            df.reset_index(inplace=True)\n",
    "            df.rename(columns={'index': 'serial_no'}, inplace=True)  # Change 'index' to 'serial_no'\n",
    "            \n",
    "            # Adding new columns with default values\n",
    "            df['ta_id'] = ta_id  # Example: same TA ID for all rows\n",
    "            df['group_id'] = group_id  # Example: same group ID for all rows\n",
    "            df['question_no'] = range(0, len(df))\n",
    "            \n",
    "            # Rearrange the columns according to the desired order\n",
    "            new_column_order = ['ta_id', 'group_id', 'question_no'] + [col for col in df.columns if col not in ['serial_no','ta_id', 'group_id', 'question_no']]\n",
    "            df = df[new_column_order] \n",
    "            dataframes.append(df)\n",
    "     \n",
    "        \n",
    "    combined_df = pd.concat(dataframes, ignore_index=True)  # ignore_index to reset index\n",
    "    combined_df.to_csv(\"outputs.csv\",index=False)\n",
    "    \n",
    "    ta_only_columns=['ta_id','group_id','question_no', 'TA_rating_for_question_usefulness','TA_comments_for_question_usefulness','TA_rating_for_LLM_feedback','TA_comments_for_LLM_feedback','TA_score_given_to_student_answer']\n",
    "    # ta_only_columns=['ta_id','group_id','question_no', 'TA_rating_for_question_usefulness','TA_rating_for_LLM_feedback','TA_score_given_to_student_answer']\n",
    "    ta_only_df= combined_df[ta_only_columns] \n",
    "    ta_only_df.to_csv(\"outputs2.csv\",index=False)\n",
    "    \n",
    "    print('total no. of groups: ',cnt)\n",
    "\n",
    "\n",
    "convert_to_csv()\n"
   ]
  }
 ],
 "metadata": {
  "kernelspec": {
   "display_name": "nlp_ass2",
   "language": "python",
   "name": "python3"
  },
  "language_info": {
   "codemirror_mode": {
    "name": "ipython",
    "version": 3
   },
   "file_extension": ".py",
   "mimetype": "text/x-python",
   "name": "python",
   "nbconvert_exporter": "python",
   "pygments_lexer": "ipython3",
   "version": "3.11.8"
  }
 },
 "nbformat": 4,
 "nbformat_minor": 2
}
